{
 "cells": [
  {
   "cell_type": "markdown",
   "metadata": {},
   "source": [
    "#### User Client "
   ]
  },
  {
   "cell_type": "code",
   "execution_count": 2,
   "metadata": {},
   "outputs": [
    {
     "name": "stdout",
     "output_type": "stream",
     "text": [
      "{'sender': 'CaURvOszb7ONjD4F1tl/I7rx6GPed1j9kBV868c2ngJUtccHc7jqYq6TbaJQYSjNke9LBK2HK+6tgt0HVYycNZdKYrV6rz0owe2SeyxtFWQ/weGh0FKRD5tP5wZHuq2SGa/QOHRj6DWj+pIeaJJXySO3RMrSR2ucNSrP9GYgApSFyfY2pm6FNdNG8ZEDM4lc8VjjoxzSQzMQzqdmRlsGVGH6SpoVp8zUog6q5ZHQhROKwXknbgjVkTyB82nKTpNkIqRBmzqXkjUCQsDNBWGrx8fjTKfotOigBQFy0EcXAx0TUl2OCBaYRr71AnTXAZV+eRPHadnXM3Yw4lwj2zcyMdQFmIyj+n5QG4EYsPZLZsYSDH20ROI/nkJ/hIvyJyeSJErspjmfgXblTWarWEO2RHK1dwRcWDpmILaak2mIVOMSi0MWQQxLRYBXslHJqOgO6L0y7TuAJ5R3JOxDEQAUVk3oi1FQHok46cacUH0HucXKQ1fRZN6TBaGLU5VVojpF3CJWYId1TiR2lxEChoGvOrfC/wd6jHFk5hWkDGm6eIE9iI5vCWaC8BMEZnNRXAqiCMi+m3WgONgRmVDyufqkAWsz0gRY2iDmce5jMvwngguMQiBh6o8n8YG09FB3eqJdsf5kPpUmUOWtEq1BYHDF1iPOl4aSdOKQP5bKYBLJAAZ7kmhioFxLGlxJ1lKj1pygxPHeFOuxhiIjidPBV8arUrGCrLPR0qXA2ykKBWs6qZYgr5E+Zw2ataHVvDKfDSQJFeBoygP1ffEBIl9HpwRtXhZbi0WsNYxTfy4nOZXoY9bU9qlNy8RKrahu+PzZvFIygHFLCPBh7FLlf0IXQJG9PGRRJUjKMaarpoSj1SFkyhkSGruGvp5EPFaeY+KFBL9YUisE6deamoxe/h0ydVQNj5U7iZXbn1iwuZKNR3yLps1D++fqTZyKwE2ooi8BmebgBqKK8p/q7C9SjDLrZyshGpuNOuUFIA55+Ls2DuMDixw2qwDMmLMcO4J3CI+C3KyLPlS6YsFKo1EVZBAKK6ocnCaAOCGzToJxVXDqaGIOYqLCKQcumHQSdQNSlF94nAZUkhRkBiWUZgQAh+RyTbSUZYvBkewnV5xKgJF6FRSVWGSOjB9hVMUFBz08ILvSPK3611lJxDMMTU2pOM/5TujfR43A4W7sh+bQLZ+leh9l4qZX', 'recipient': 'mswgzC7YwI7shy2A4zyWIenxUwQ=', 'value': 1, 'data': None, 'gasLimit': 21000, 'gasPrice': 100000, 'signature': 'Ocav7rke5JfOEx12vb4ED10pW8yTHESot6QczQ7uuQMpnc/smZMZi44qIKyT/z2a45lHUy8rPixlWmH1cp9zZcDcqyUxepLJtjWkZukgUJU6ya+j+WXfKMW6XQzYv0R3dFaaM2a7/mZc3fKdmyiJf7uVHTYyvlp7DCU7DTTHJMIp80ZB6s9Ccu0cjKbcv6qbeydL73JRhnDr5gkFolY16lfhTkCEEPjxEXo/91iRaNrE/sKBsGOdv87cMjNipli4yNmEYRRD13/hJNhEeNXiYeuXvpGnSdOpkzXaGWpt+SJUc+T6+7d8HFzrjIynsNYdVoNRXUayCzFRLr820QRhRguRY1otvJJPrPpDvftLGmcSxUJhN2Yqco6Nq5n5nHAMEIswOitk8no16SH7hq2xxkpXTIOnGjqHPcFaddwJ1oYyi9FmCeXd2Wdy7z53LoCIs3UMqTMGt/egWrzPjKEG7MoS/YTpulkl+lVVyMFUvsS+NkybAQhEkS3MhpjHnlYUo2k4zfx1zLYbsk1M8fgWE1BmXGxHBbzFVfUh0v9lhHmEoyNtTCHnk3TwxOFimzgLBlZbFobpFSbVSurk0fOVqLdeMHv7jr2FOy3EEVjL2g0uSwisdTVvV1I33tgrGRlJnmyxEzdJIpZOFNIk9cwcKrbJlIVNOhDalriPUV8kJ/bW3CsXLhbjCVSZ/uNdxUoj+JfUta47MZ58Vbook8Kj7BlOorFtsjbe0Oc60qTKMyI7zdW//gcziJ4rZWELxuSRFe2LfziNMbp9tlZ2MZpoGQv71SzheNmGHz5OtdX7txOmi2ki8Ga5xloSDWe6hMM+6CtR3YgdW+NnEIOrii2VBTWaW71JOkBb7KUmF8w5bzw='}\n",
      "Data send from User client {\"sender\": \"CaURvOszb7ONjD4F1tl/I7rx6GPed1j9kBV868c2ngJUtccHc7jqYq6TbaJQYSjNke9LBK2HK+6tgt0HVYycNZdKYrV6rz0owe2SeyxtFWQ/weGh0FKRD5tP5wZHuq2SGa/QOHRj6DWj+pIeaJJXySO3RMrSR2ucNSrP9GYgApSFyfY2pm6FNdNG8ZEDM4lc8VjjoxzSQzMQzqdmRlsGVGH6SpoVp8zUog6q5ZHQhROKwXknbgjVkTyB82nKTpNkIqRBmzqXkjUCQsDNBWGrx8fjTKfotOigBQFy0EcXAx0TUl2OCBaYRr71AnTXAZV+eRPHadnXM3Yw4lwj2zcyMdQFmIyj+n5QG4EYsPZLZsYSDH20ROI/nkJ/hIvyJyeSJErspjmfgXblTWarWEO2RHK1dwRcWDpmILaak2mIVOMSi0MWQQxLRYBXslHJqOgO6L0y7TuAJ5R3JOxDEQAUVk3oi1FQHok46cacUH0HucXKQ1fRZN6TBaGLU5VVojpF3CJWYId1TiR2lxEChoGvOrfC/wd6jHFk5hWkDGm6eIE9iI5vCWaC8BMEZnNRXAqiCMi+m3WgONgRmVDyufqkAWsz0gRY2iDmce5jMvwngguMQiBh6o8n8YG09FB3eqJdsf5kPpUmUOWtEq1BYHDF1iPOl4aSdOKQP5bKYBLJAAZ7kmhioFxLGlxJ1lKj1pygxPHeFOuxhiIjidPBV8arUrGCrLPR0qXA2ykKBWs6qZYgr5E+Zw2ataHVvDKfDSQJFeBoygP1ffEBIl9HpwRtXhZbi0WsNYxTfy4nOZXoY9bU9qlNy8RKrahu+PzZvFIygHFLCPBh7FLlf0IXQJG9PGRRJUjKMaarpoSj1SFkyhkSGruGvp5EPFaeY+KFBL9YUisE6deamoxe/h0ydVQNj5U7iZXbn1iwuZKNR3yLps1D++fqTZyKwE2ooi8BmebgBqKK8p/q7C9SjDLrZyshGpuNOuUFIA55+Ls2DuMDixw2qwDMmLMcO4J3CI+C3KyLPlS6YsFKo1EVZBAKK6ocnCaAOCGzToJxVXDqaGIOYqLCKQcumHQSdQNSlF94nAZUkhRkBiWUZgQAh+RyTbSUZYvBkewnV5xKgJF6FRSVWGSOjB9hVMUFBz08ILvSPK3611lJxDMMTU2pOM/5TujfR43A4W7sh+bQLZ+leh9l4qZX\", \"recipient\": \"mswgzC7YwI7shy2A4zyWIenxUwQ=\", \"value\": 1, \"data\": null, \"gasLimit\": 21000, \"gasPrice\": 100000, \"signature\": \"Ocav7rke5JfOEx12vb4ED10pW8yTHESot6QczQ7uuQMpnc/smZMZi44qIKyT/z2a45lHUy8rPixlWmH1cp9zZcDcqyUxepLJtjWkZukgUJU6ya+j+WXfKMW6XQzYv0R3dFaaM2a7/mZc3fKdmyiJf7uVHTYyvlp7DCU7DTTHJMIp80ZB6s9Ccu0cjKbcv6qbeydL73JRhnDr5gkFolY16lfhTkCEEPjxEXo/91iRaNrE/sKBsGOdv87cMjNipli4yNmEYRRD13/hJNhEeNXiYeuXvpGnSdOpkzXaGWpt+SJUc+T6+7d8HFzrjIynsNYdVoNRXUayCzFRLr820QRhRguRY1otvJJPrPpDvftLGmcSxUJhN2Yqco6Nq5n5nHAMEIswOitk8no16SH7hq2xxkpXTIOnGjqHPcFaddwJ1oYyi9FmCeXd2Wdy7z53LoCIs3UMqTMGt/egWrzPjKEG7MoS/YTpulkl+lVVyMFUvsS+NkybAQhEkS3MhpjHnlYUo2k4zfx1zLYbsk1M8fgWE1BmXGxHBbzFVfUh0v9lhHmEoyNtTCHnk3TwxOFimzgLBlZbFobpFSbVSurk0fOVqLdeMHv7jr2FOy3EEVjL2g0uSwisdTVvV1I33tgrGRlJnmyxEzdJIpZOFNIk9cwcKrbJlIVNOhDalriPUV8kJ/bW3CsXLhbjCVSZ/uNdxUoj+JfUta47MZ58Vbook8Kj7BlOorFtsjbe0Oc60qTKMyI7zdW//gcziJ4rZWELxuSRFe2LfziNMbp9tlZ2MZpoGQv71SzheNmGHz5OtdX7txOmi2ki8Ga5xloSDWe6hMM+6CtR3YgdW+NnEIOrii2VBTWaW71JOkBb7KUmF8w5bzw=\"}\n"
     ]
    }
   ],
   "source": [
    "from wallet import Wallet\n",
    "from transaction import Tx\n",
    "\n",
    "import requests\n",
    "import network_setup\n",
    "\n",
    "#generate wallet\n",
    "\n",
    "wallet_1 = Wallet()\n",
    "wallet_1.generateWallet()\n",
    "\n",
    "wallet_2 = Wallet()\n",
    "wallet_2.generateWallet()\n",
    "\n",
    "\n",
    "#generate transaction\n",
    "amount = 1\n",
    "data = None\n",
    "\n",
    "tx_1 = Tx()\n",
    "tx_1.add_input(wallet_1.public_key, wallet_2.wallet_address, amount, data)\n",
    "\n",
    "#sign transaction\n",
    "tx_1.sign(wallet_1.private_key) \n",
    "\n",
    "#send transaction to blockchain\n",
    "data = tx_1.create_json()\n",
    "print(\"Data send from User client\",data)\n",
    "\n",
    "headers = {'Content-Type': 'application/json'}\n",
    "url = f\"http://{network_setup.NETWORK}:5011/verify_tx\"\n",
    "\n",
    "print(url)\n",
    "\n",
    "r = requests.post(url, data, headers=headers)\n",
    "r.text\n",
    "\n"
   ]
  }
 ],
 "metadata": {
  "kernelspec": {
   "display_name": "Python 3",
   "language": "python",
   "name": "python3"
  },
  "language_info": {
   "codemirror_mode": {
    "name": "ipython",
    "version": 3
   },
   "file_extension": ".py",
   "mimetype": "text/x-python",
   "name": "python",
   "nbconvert_exporter": "python",
   "pygments_lexer": "ipython3",
   "version": "3.10.12"
  }
 },
 "nbformat": 4,
 "nbformat_minor": 2
}
